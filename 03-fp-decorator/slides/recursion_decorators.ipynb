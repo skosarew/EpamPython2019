{
 "cells": [
  {
   "cell_type": "markdown",
   "metadata": {
    "slideshow": {
     "slide_type": "slide"
    }
   },
   "source": [
    "#### Lazy evaluation:"
   ]
  },
  {
   "cell_type": "markdown",
   "metadata": {
    "slideshow": {
     "slide_type": "fragment"
    }
   },
   "source": [
    "Объект будет создан не когда он объявлен, а когда это нам будет нужно."
   ]
  },
  {
   "cell_type": "code",
   "execution_count": null,
   "metadata": {
    "slideshow": {
     "slide_type": "fragment"
    }
   },
   "outputs": [],
   "source": [
    "# python2\n",
    "type(xrange(10)) # list\n",
    "        \n",
    "# python3\n",
    "type(range(10)) # range == generator\n"
   ]
  },
  {
   "cell_type": "markdown",
   "metadata": {
    "slideshow": {
     "slide_type": "subslide"
    }
   },
   "source": [
    "### if statement with or/and is lazy evaluated"
   ]
  },
  {
   "cell_type": "code",
   "execution_count": 39,
   "metadata": {
    "slideshow": {
     "slide_type": "fragment"
    }
   },
   "outputs": [
    {
     "name": "stdout",
     "output_type": "stream",
     "text": [
      "0.3601948249997804\n",
      "0.004765423000208102\n"
     ]
    }
   ],
   "source": [
    "from timeit import timeit as tm\n",
    "\n",
    "print(tm('all(True for _ in range(1000))', number=10000)) # True and True and True and True...\n",
    "print(tm('any(True for _ in range(1000))', number=10000)) # True or True or True or True...\n"
   ]
  },
  {
   "cell_type": "code",
   "execution_count": 40,
   "metadata": {
    "slideshow": {
     "slide_type": "fragment"
    }
   },
   "outputs": [
    {
     "name": "stdout",
     "output_type": "stream",
     "text": [
      "0.0013647559972014278\n",
      "0.04795864499465097\n"
     ]
    }
   ],
   "source": [
    "print(tm('all(False for _ in range(1000))', number=1000)) # False and False and False and False...\n",
    "print(tm('any(False for _ in range(1000))', number=1000)) # False or False or False or False..."
   ]
  },
  {
   "cell_type": "code",
   "execution_count": 24,
   "metadata": {
    "slideshow": {
     "slide_type": "fragment"
    }
   },
   "outputs": [],
   "source": [
    "def foo(a=None):\n",
    "    a = a or []"
   ]
  },
  {
   "cell_type": "code",
   "execution_count": 23,
   "metadata": {
    "slideshow": {
     "slide_type": "fragment"
    }
   },
   "outputs": [
    {
     "name": "stdout",
     "output_type": "stream",
     "text": [
      "Ellipsis\n",
      "<class 'ellipsis'>\n"
     ]
    }
   ],
   "source": [
    "some_condition_met = True\n",
    "\n",
    "\n",
    "def do_one():\n",
    "    print(...)\n",
    "    return True if some_condition_met else False\n",
    "\n",
    "def do_two():\n",
    "    print(type(...))\n",
    "\n",
    "do_one() and do_two()"
   ]
  },
  {
   "cell_type": "code",
   "execution_count": 41,
   "metadata": {
    "slideshow": {
     "slide_type": "fragment"
    }
   },
   "outputs": [
    {
     "name": "stdout",
     "output_type": "stream",
     "text": [
      "Help on ellipsis object:\n",
      "\n",
      "class ellipsis(object)\n",
      " |  Methods defined here:\n",
      " |  \n",
      " |  __getattribute__(self, name, /)\n",
      " |      Return getattr(self, name).\n",
      " |  \n",
      " |  __reduce__(...)\n",
      " |      Helper for pickle.\n",
      " |  \n",
      " |  __repr__(self, /)\n",
      " |      Return repr(self).\n",
      " |  \n",
      " |  ----------------------------------------------------------------------\n",
      " |  Static methods defined here:\n",
      " |  \n",
      " |  __new__(*args, **kwargs) from builtins.type\n",
      " |      Create and return a new object.  See help(type) for accurate signature.\n",
      "\n"
     ]
    }
   ],
   "source": [
    "help(...)"
   ]
  },
  {
   "cell_type": "markdown",
   "metadata": {
    "slideshow": {
     "slide_type": "slide"
    }
   },
   "source": [
    "### ternary conditional operator"
   ]
  },
  {
   "cell_type": "markdown",
   "metadata": {
    "slideshow": {
     "slide_type": "fragment"
    }
   },
   "source": [
    "#### <expression 1> if <condition> else <expression 2> "
   ]
  },
  {
   "cell_type": "code",
   "execution_count": 24,
   "metadata": {
    "slideshow": {
     "slide_type": "fragment"
    }
   },
   "outputs": [
    {
     "data": {
      "text/plain": [
       "-1"
      ]
     },
     "execution_count": 24,
     "metadata": {},
     "output_type": "execute_result"
    }
   ],
   "source": [
    "a = 1\n",
    "b = 2\n",
    "\n",
    "1 if a > b else -1 \n",
    "# Output is -1\n",
    "\n",
    "1 if a > b else -1 if a < b else 0\n",
    "# Output is -1"
   ]
  },
  {
   "cell_type": "markdown",
   "metadata": {
    "slideshow": {
     "slide_type": "fragment"
    }
   },
   "source": [
    "Отличается от своих собратьев в других языках `condition ? a : b`"
   ]
  },
  {
   "cell_type": "markdown",
   "metadata": {
    "slideshow": {
     "slide_type": "subslide"
    }
   },
   "source": [
    "Другие варианты, но все тоже самое:"
   ]
  },
  {
   "cell_type": "code",
   "execution_count": null,
   "metadata": {
    "slideshow": {
     "slide_type": "fragment"
    }
   },
   "outputs": [],
   "source": [
    "{True:\"yes\", False:\"no\"}[boolean]\n",
    "\n",
    "{True:\"yes\", False:\"no\", None:\"maybe\"}[boolean_or_none]\n",
    "\n",
    "(\"no\", \"yes\")[boolean]"
   ]
  },
  {
   "cell_type": "markdown",
   "metadata": {
    "slideshow": {
     "slide_type": "slide"
    }
   },
   "source": [
    "### Рекурсия"
   ]
  },
  {
   "cell_type": "markdown",
   "metadata": {
    "slideshow": {
     "slide_type": "fragment"
    }
   },
   "source": [
    "<img src='images/recursion.jpg'>"
   ]
  },
  {
   "cell_type": "markdown",
   "metadata": {
    "slideshow": {
     "slide_type": "subslide"
    }
   },
   "source": [
    "В программировании рекурсия — вызов функции (процедуры) из неё же самой, непосредственно (простая рекурсия) или через другие функции (сложная или косвенная рекурсия), например, функция `A`  вызывает функцию `B` , а функция `B` — функцию `A`.\n",
    "<img src='./images/recurse_meme.jpg' style='height: 500px;width:350px'>"
   ]
  },
  {
   "cell_type": "markdown",
   "metadata": {
    "slideshow": {
     "slide_type": "fragment"
    }
   },
   "source": [
    " Количество вложенных вызовов функции или процедуры называется глубиной рекурсии. Рекурсивная программа позволяет описать повторяющееся или даже потенциально бесконечное вычисление, причём без явных повторений частей программы и использования циклов."
   ]
  },
  {
   "cell_type": "code",
   "execution_count": 1,
   "metadata": {
    "slideshow": {
     "slide_type": "subslide"
    }
   },
   "outputs": [],
   "source": [
    "def factorial(n):\n",
    "    if n == 0:\n",
    "        return 1\n",
    "    return n * factorial(n - 1)"
   ]
  },
  {
   "cell_type": "code",
   "execution_count": 2,
   "metadata": {
    "slideshow": {
     "slide_type": "fragment"
    }
   },
   "outputs": [
    {
     "name": "stdout",
     "output_type": "stream",
     "text": [
      "24\n"
     ]
    }
   ],
   "source": [
    "print(factorial(4))  # 4 * 3 * 2 * 1 = 24"
   ]
  },
  {
   "cell_type": "code",
   "execution_count": 5,
   "metadata": {
    "scrolled": true,
    "slideshow": {
     "slide_type": "fragment"
    }
   },
   "outputs": [
    {
     "ename": "RecursionError",
     "evalue": "maximum recursion depth exceeded in comparison",
     "output_type": "error",
     "traceback": [
      "\u001b[0;31m---------------------------------------------------------------------------\u001b[0m",
      "\u001b[0;31mRecursionError\u001b[0m                            Traceback (most recent call last)",
      "\u001b[0;32m<ipython-input-5-f16d10eb413b>\u001b[0m in \u001b[0;36m<module>\u001b[0;34m\u001b[0m\n\u001b[0;32m----> 1\u001b[0;31m \u001b[0mprint\u001b[0m\u001b[0;34m(\u001b[0m\u001b[0mfactorial\u001b[0m\u001b[0;34m(\u001b[0m\u001b[0;36m4000\u001b[0m\u001b[0;34m)\u001b[0m\u001b[0;34m)\u001b[0m  \u001b[0;31m# OOOPS (((\u001b[0m\u001b[0;34m\u001b[0m\u001b[0;34m\u001b[0m\u001b[0m\n\u001b[0m\u001b[1;32m      2\u001b[0m \u001b[0;32mimport\u001b[0m \u001b[0msys\u001b[0m\u001b[0;34m\u001b[0m\u001b[0;34m\u001b[0m\u001b[0m\n\u001b[1;32m      3\u001b[0m \u001b[0msys\u001b[0m\u001b[0;34m.\u001b[0m\u001b[0mgetrecursionlimit\u001b[0m\u001b[0;34m(\u001b[0m\u001b[0;34m)\u001b[0m\u001b[0;34m\u001b[0m\u001b[0;34m\u001b[0m\u001b[0m\n",
      "\u001b[0;32m<ipython-input-3-324b4a43fba5>\u001b[0m in \u001b[0;36mfactorial\u001b[0;34m(n)\u001b[0m\n\u001b[1;32m      2\u001b[0m     \u001b[0;32mif\u001b[0m \u001b[0mn\u001b[0m \u001b[0;34m==\u001b[0m \u001b[0;36m0\u001b[0m\u001b[0;34m:\u001b[0m\u001b[0;34m\u001b[0m\u001b[0;34m\u001b[0m\u001b[0m\n\u001b[1;32m      3\u001b[0m         \u001b[0;32mreturn\u001b[0m \u001b[0;36m1\u001b[0m\u001b[0;34m\u001b[0m\u001b[0;34m\u001b[0m\u001b[0m\n\u001b[0;32m----> 4\u001b[0;31m     \u001b[0;32mreturn\u001b[0m \u001b[0mn\u001b[0m \u001b[0;34m*\u001b[0m \u001b[0mfactorial\u001b[0m\u001b[0;34m(\u001b[0m\u001b[0mn\u001b[0m \u001b[0;34m-\u001b[0m \u001b[0;36m1\u001b[0m\u001b[0;34m)\u001b[0m\u001b[0;34m\u001b[0m\u001b[0;34m\u001b[0m\u001b[0m\n\u001b[0m",
      "... last 1 frames repeated, from the frame below ...\n",
      "\u001b[0;32m<ipython-input-3-324b4a43fba5>\u001b[0m in \u001b[0;36mfactorial\u001b[0;34m(n)\u001b[0m\n\u001b[1;32m      2\u001b[0m     \u001b[0;32mif\u001b[0m \u001b[0mn\u001b[0m \u001b[0;34m==\u001b[0m \u001b[0;36m0\u001b[0m\u001b[0;34m:\u001b[0m\u001b[0;34m\u001b[0m\u001b[0;34m\u001b[0m\u001b[0m\n\u001b[1;32m      3\u001b[0m         \u001b[0;32mreturn\u001b[0m \u001b[0;36m1\u001b[0m\u001b[0;34m\u001b[0m\u001b[0;34m\u001b[0m\u001b[0m\n\u001b[0;32m----> 4\u001b[0;31m     \u001b[0;32mreturn\u001b[0m \u001b[0mn\u001b[0m \u001b[0;34m*\u001b[0m \u001b[0mfactorial\u001b[0m\u001b[0;34m(\u001b[0m\u001b[0mn\u001b[0m \u001b[0;34m-\u001b[0m \u001b[0;36m1\u001b[0m\u001b[0;34m)\u001b[0m\u001b[0;34m\u001b[0m\u001b[0;34m\u001b[0m\u001b[0m\n\u001b[0m",
      "\u001b[0;31mRecursionError\u001b[0m: maximum recursion depth exceeded in comparison"
     ]
    }
   ],
   "source": [
    "print(factorial(4000))  # OOOPS ((("
   ]
  },
  {
   "cell_type": "markdown",
   "metadata": {
    "slideshow": {
     "slide_type": "subslide"
    }
   },
   "source": [
    "Узнать лимит глубины рекурсии:"
   ]
  },
  {
   "cell_type": "code",
   "execution_count": 47,
   "metadata": {
    "slideshow": {
     "slide_type": "fragment"
    }
   },
   "outputs": [
    {
     "data": {
      "text/plain": [
       "3000"
      ]
     },
     "execution_count": 47,
     "metadata": {},
     "output_type": "execute_result"
    }
   ],
   "source": [
    "import sys\n",
    "sys.getrecursionlimit()"
   ]
  },
  {
   "cell_type": "markdown",
   "metadata": {},
   "source": [
    "Изменить лимит:"
   ]
  },
  {
   "cell_type": "code",
   "execution_count": 48,
   "metadata": {},
   "outputs": [
    {
     "data": {
      "text/plain": [
       "5000"
      ]
     },
     "execution_count": 48,
     "metadata": {},
     "output_type": "execute_result"
    }
   ],
   "source": [
    "sys.setrecursionlimit(5000)\n",
    "sys.getrecursionlimit()"
   ]
  },
  {
   "cell_type": "markdown",
   "metadata": {
    "slideshow": {
     "slide_type": "slide"
    }
   },
   "source": [
    "[Pythontutor](http://www.pythontutor.com/visualize.html)"
   ]
  },
  {
   "cell_type": "markdown",
   "metadata": {
    "slideshow": {
     "slide_type": "subslide"
    }
   },
   "source": [
    "<img src='./images/recursion.png'>"
   ]
  },
  {
   "cell_type": "markdown",
   "metadata": {
    "slideshow": {
     "slide_type": "subslide"
    }
   },
   "source": [
    "Чуть более реалистичный вариант"
   ]
  },
  {
   "cell_type": "code",
   "execution_count": 50,
   "metadata": {
    "slideshow": {
     "slide_type": "fragment"
    }
   },
   "outputs": [
    {
     "name": "stdout",
     "output_type": "stream",
     "text": [
      "return list:  [18]\n",
      "return list:  [16, 18]\n",
      "return list:  [14, 16, 18]\n",
      "return list:  [12, 14, 16, 18]\n",
      "return list:  [10, 12, 14, 16, 18]\n",
      "return list:  [8, 10, 12, 14, 16, 18]\n",
      "return list:  [6, 8, 10, 12, 14, 16, 18]\n",
      "return list:  [4, 6, 8, 10, 12, 14, 16, 18]\n",
      "return list:  [2, 4, 6, 8, 10, 12, 14, 16, 18]\n",
      "return list:  [0, 2, 4, 6, 8, 10, 12, 14, 16, 18]\n"
     ]
    },
    {
     "data": {
      "text/plain": [
       "[0, 2, 4, 6, 8, 10, 12, 14, 16, 18]"
      ]
     },
     "execution_count": 50,
     "metadata": {},
     "output_type": "execute_result"
    }
   ],
   "source": [
    "def double_all_elements(lst):\n",
    "    \"\"\"\n",
    "    Double all elements in list\n",
    "    :param lst: incoming list\n",
    "    :return: result list\n",
    "    \"\"\"\n",
    "\n",
    "    if len(lst) == 0:\n",
    "        return []\n",
    "    else:\n",
    "        updated_element = lst[0] * 2\n",
    "        result = [updated_element, ] + double_all_elements(lst[1:])\n",
    "    print('return list: ', result)\n",
    "    return result\n",
    "\n",
    "double_all_elements(list(range(10)))"
   ]
  },
  {
   "cell_type": "markdown",
   "metadata": {
    "slideshow": {
     "slide_type": "slide"
    }
   },
   "source": [
    "### Tail recursion"
   ]
  },
  {
   "cell_type": "markdown",
   "metadata": {
    "slideshow": {
     "slide_type": "fragment"
    }
   },
   "source": [
    "Частный случай рекурсии, при котором любой рекурсивный вызов является последней операцией перед возвратом из функции. Подобный вид рекурсии примечателен тем, что может быть легко заменён на итерацию путём формальной и гарантированно корректной перестройки кода функции."
   ]
  },
  {
   "cell_type": "code",
   "execution_count": 56,
   "metadata": {
    "slideshow": {
     "slide_type": "fragment"
    }
   },
   "outputs": [
    {
     "name": "stdout",
     "output_type": "stream",
     "text": [
      "[0, 1, 2, 3, 4, 5, 6, 7, 8, 9] [0]\n",
      "[1, 2, 3, 4, 5, 6, 7, 8, 9] [0, 2]\n",
      "[2, 3, 4, 5, 6, 7, 8, 9] [0, 2, 4]\n",
      "[3, 4, 5, 6, 7, 8, 9] [0, 2, 4, 6]\n",
      "[4, 5, 6, 7, 8, 9] [0, 2, 4, 6, 8]\n",
      "[5, 6, 7, 8, 9] [0, 2, 4, 6, 8, 10]\n",
      "[6, 7, 8, 9] [0, 2, 4, 6, 8, 10, 12]\n",
      "[7, 8, 9] [0, 2, 4, 6, 8, 10, 12, 14]\n",
      "[8, 9] [0, 2, 4, 6, 8, 10, 12, 14, 16]\n",
      "[9] [0, 2, 4, 6, 8, 10, 12, 14, 16, 18]\n"
     ]
    },
    {
     "data": {
      "text/plain": [
       "[0, 2, 4, 6, 8, 10, 12, 14, 16, 18]"
      ]
     },
     "execution_count": 56,
     "metadata": {},
     "output_type": "execute_result"
    }
   ],
   "source": [
    "def double_all_elements(lst, result_lst=None):\n",
    "    \"\"\" \n",
    "    Double all elements in list (tail recursion example)\n",
    "    :param lst: incoming list\n",
    "    :return: result list\n",
    "    \"\"\"\n",
    "    if result_lst == None:\n",
    "        result_lst = []\n",
    "\n",
    "    if len(lst) == 0:\n",
    "        return result_lst\n",
    "    else:\n",
    "        updated_element = lst[0] * 2\n",
    "        result_lst.append(updated_element)\n",
    "        print(lst, result_lst)\n",
    "        result = double_all_elements(lst[1:], result_lst)\n",
    "    return result\n",
    "\n",
    "double_all_elements(list(range(10)))"
   ]
  },
  {
   "cell_type": "code",
   "execution_count": 52,
   "metadata": {
    "scrolled": true,
    "slideshow": {
     "slide_type": "subslide"
    }
   },
   "outputs": [
    {
     "name": "stdout",
     "output_type": "stream",
     "text": [
      "0 10 []\n",
      "2 9 [0]\n",
      "4 8 [0, 2]\n",
      "6 7 [0, 2, 4]\n",
      "8 6 [0, 2, 4, 6]\n",
      "10 5 [0, 2, 4, 6, 8]\n",
      "12 4 [0, 2, 4, 6, 8, 10]\n",
      "14 3 [0, 2, 4, 6, 8, 10, 12]\n",
      "16 2 [0, 2, 4, 6, 8, 10, 12, 14]\n",
      "18 1 [0, 2, 4, 6, 8, 10, 12, 14, 16]\n"
     ]
    },
    {
     "data": {
      "text/plain": [
       "[0, 2, 4, 6, 8, 10, 12, 14, 16, 18]"
      ]
     },
     "execution_count": 52,
     "metadata": {},
     "output_type": "execute_result"
    }
   ],
   "source": [
    "def double_all_elements(lst, result_lst=None):\n",
    "    \"\"\"  \n",
    "    Double all elements in list (without recursion)\n",
    "    :param lst: incoming list\n",
    "    :return: result list\n",
    "    \"\"\"\n",
    "\n",
    "    if result_lst == None:\n",
    "        result_lst = []\n",
    "\n",
    "    while len(lst) > 0:\n",
    "        updated_element = lst[0] * 2\n",
    "        print(updated_element, len(lst), result_lst)\n",
    "        (lst, result_lst) = (lst[1:], result_lst + [updated_element, ])\n",
    "    return result_lst\n",
    "\n",
    "double_all_elements(list(range(10)))"
   ]
  },
  {
   "cell_type": "markdown",
   "metadata": {
    "slideshow": {
     "slide_type": "slide"
    }
   },
   "source": [
    "### Декоратор"
   ]
  },
  {
   "cell_type": "markdown",
   "metadata": {
    "slideshow": {
     "slide_type": "subslide"
    }
   },
   "source": [
    "Декоратор — функция, которая принимает другую функцию и что-то возвращает."
   ]
  },
  {
   "cell_type": "markdown",
   "metadata": {
    "slideshow": {
     "slide_type": "fragment"
    }
   },
   "source": [
    "Синаксис:"
   ]
  },
  {
   "cell_type": "code",
   "execution_count": null,
   "metadata": {
    "slideshow": {
     "slide_type": "fragment"
    }
   },
   "outputs": [],
   "source": [
    "@check\n",
    "def foo():\n",
    "    return 'moo'\n"
   ]
  },
  {
   "cell_type": "code",
   "execution_count": null,
   "metadata": {
    "slideshow": {
     "slide_type": "fragment"
    }
   },
   "outputs": [],
   "source": [
    "def foo(x):\n",
    "    return 'moo'\n",
    "\n",
    "foo = check(foo)"
   ]
  },
  {
   "cell_type": "code",
   "execution_count": 10,
   "metadata": {
    "slideshow": {
     "slide_type": "subslide"
    }
   },
   "outputs": [
    {
     "name": "stdout",
     "output_type": "stream",
     "text": [
      "We have done some work inside decorator\n"
     ]
    },
    {
     "data": {
      "text/plain": [
       "'moo'"
      ]
     },
     "execution_count": 10,
     "metadata": {},
     "output_type": "execute_result"
    }
   ],
   "source": [
    "def check(func):\n",
    "    def inner(*args, **kwargs):\n",
    "        res =  func(*args, **kwargs) \n",
    "        print('We have done some work inside decorator')\n",
    "        return res\n",
    "    return inner\n",
    "\n",
    "@check\n",
    "def foo():\n",
    "    return 'moo'\n",
    "\n",
    "foo = check(foo)\n",
    "foo()\n"
   ]
  },
  {
   "cell_type": "markdown",
   "metadata": {
    "slideshow": {
     "slide_type": "fragment"
    }
   },
   "source": [
    "После всех манипуляций `foo` будет доступно то, что вернул декоратор\n",
    "\n",
    "Он может вернуть объект любого типа"
   ]
  },
  {
   "cell_type": "markdown",
   "metadata": {
    "slideshow": {
     "slide_type": "slide"
    }
   },
   "source": [
    "### Грокаем декораторы"
   ]
  },
  {
   "cell_type": "code",
   "execution_count": 6,
   "metadata": {
    "slideshow": {
     "slide_type": "fragment"
    }
   },
   "outputs": [
    {
     "name": "stdout",
     "output_type": "stream",
     "text": [
      "name: foo \n",
      "doc:  I am absulutely useless foo\n"
     ]
    },
    {
     "data": {
      "text/plain": [
       "'moo'"
      ]
     },
     "execution_count": 6,
     "metadata": {},
     "output_type": "execute_result"
    }
   ],
   "source": [
    "def check(func):\n",
    "    def wrapper(*args, **kwargs):\n",
    "        print('name:',func.__name__, '\\ndoc: ', func.__doc__)\n",
    "        return func(*args, **kwargs)\n",
    "    return wrapper\n",
    "\n",
    "@check\n",
    "def foo():\n",
    "    \"\"\"I am absulutely useless foo\"\"\"\n",
    "    return 'moo'\n",
    "\n",
    "foo()"
   ]
  },
  {
   "cell_type": "code",
   "execution_count": 9,
   "metadata": {
    "slideshow": {
     "slide_type": "subslide"
    }
   },
   "outputs": [
    {
     "name": "stdout",
     "output_type": "stream",
     "text": [
      "<function check.<locals>.wrapper at 0x7f9fdc1fbc80> wrapper\n",
      "\n",
      "name: foo \n",
      "doc:  I am absulutely useless foo\n"
     ]
    },
    {
     "data": {
      "text/plain": [
       "'moo'"
      ]
     },
     "execution_count": 9,
     "metadata": {},
     "output_type": "execute_result"
    }
   ],
   "source": [
    "def check(func):\n",
    "    def wrapper(*args, **kwargs):\n",
    "        print('name:',func.__name__, '\\ndoc: ', func.__doc__)\n",
    "        return func(*args, **kwargs)\n",
    "    return wrapper\n",
    "\n",
    "\n",
    "def foo(*args, **kwargs):\n",
    "    \"\"\"I am absulutely useless foo\"\"\"\n",
    "    return 'moo'\n",
    "\n",
    "foo = check(foo)\n",
    "\n",
    "print(foo, foo.__name__)\n",
    "print()\n",
    "\n",
    "foo(1, 2, 3)"
   ]
  },
  {
   "cell_type": "markdown",
   "metadata": {
    "slideshow": {
     "slide_type": "subslide"
    }
   },
   "source": [
    "### Проблема: "
   ]
  },
  {
   "cell_type": "code",
   "execution_count": 7,
   "metadata": {
    "slideshow": {
     "slide_type": "fragment"
    }
   },
   "outputs": [
    {
     "name": "stdout",
     "output_type": "stream",
     "text": [
      "Help on function wrapper in module __main__:\n",
      "\n",
      "wrapper(*args, **kwargs)\n",
      "\n"
     ]
    }
   ],
   "source": [
    "help(foo)"
   ]
  },
  {
   "cell_type": "markdown",
   "metadata": {
    "slideshow": {
     "slide_type": "subslide"
    }
   },
   "source": [
    "Наивное решение:"
   ]
  },
  {
   "cell_type": "code",
   "execution_count": 12,
   "metadata": {
    "slideshow": {
     "slide_type": "fragment"
    }
   },
   "outputs": [
    {
     "name": "stdout",
     "output_type": "stream",
     "text": [
      "name: foo \n",
      "doc:  I am absulutely useless foo\n",
      "Help on function foo in module __main__:\n",
      "\n",
      "foo(*args, **kwargs)\n",
      "    I am absulutely useless foo\n",
      "\n",
      "None\n"
     ]
    }
   ],
   "source": [
    "def check(func):\n",
    "    def wrapper(*args, **kwargs):\n",
    "        print('name:',func.__name__, '\\ndoc: ', func.__doc__)\n",
    "        return func(*args, **kwargs)\n",
    "    wrapper.__name__ = func.__name__\n",
    "    wrapper.__doc__ = func.__doc__\n",
    "    return wrapper\n",
    "\n",
    "@check\n",
    "def foo():\n",
    "    \"\"\"I am absulutely useless foo\"\"\"\n",
    "    return 'moo'\n",
    "\n",
    "foo()\n",
    "\n",
    "\n",
    "print(help(foo))"
   ]
  },
  {
   "cell_type": "markdown",
   "metadata": {
    "slideshow": {
     "slide_type": "slide"
    }
   },
   "source": [
    "`functools`"
   ]
  },
  {
   "cell_type": "code",
   "execution_count": 13,
   "metadata": {
    "slideshow": {
     "slide_type": "fragment"
    }
   },
   "outputs": [
    {
     "name": "stdout",
     "output_type": "stream",
     "text": [
      "name: foo \n",
      "doc:  I am absulutely useless foo\n",
      "Help on function foo in module __main__:\n",
      "\n",
      "foo()\n",
      "    I am absulutely useless foo\n",
      "\n"
     ]
    }
   ],
   "source": [
    "import functools\n",
    "\n",
    "def check(func):\n",
    "    def wrapper(*args, **kwargs):\n",
    "        print('name:',func.__name__, '\\ndoc: ', func.__doc__)\n",
    "        return func(*args, **kwargs)\n",
    "    functools.update_wrapper(wrapper, func)\n",
    "    return wrapper\n",
    "\n",
    "@check\n",
    "def foo():\n",
    "    \"\"\"I am absulutely useless foo\"\"\"\n",
    "    return 'moo'\n",
    "\n",
    "foo()\n",
    "help(foo)"
   ]
  },
  {
   "cell_type": "markdown",
   "metadata": {
    "slideshow": {
     "slide_type": "slide"
    }
   },
   "source": [
    "Или добавим декоратор в декоратор:"
   ]
  },
  {
   "cell_type": "code",
   "execution_count": 4,
   "metadata": {
    "slideshow": {
     "slide_type": "fragment"
    }
   },
   "outputs": [
    {
     "name": "stdout",
     "output_type": "stream",
     "text": [
      "name: foo \n",
      "doc:  I am absulutely useless foo\n",
      "Help on function foo in module __main__:\n",
      "\n",
      "foo()\n",
      "    I am absulutely useless foo\n",
      "\n"
     ]
    }
   ],
   "source": [
    "import functools\n",
    "\n",
    "def check(func):\n",
    "    @functools.wraps(func)\n",
    "    def wrapper(*args, **kwargs):\n",
    "        print('name:',func.__name__, '\\ndoc: ', func.__doc__)\n",
    "        return func(*args, **kwargs)\n",
    "    return wrapper\n",
    "\n",
    "@check\n",
    "def foo():\n",
    "    \"\"\"I am absulutely useless foo\"\"\"\n",
    "    return 'moo'\n",
    "\n",
    "foo()\n",
    "help(foo)"
   ]
  },
  {
   "cell_type": "markdown",
   "metadata": {
    "slideshow": {
     "slide_type": "subslide"
    }
   },
   "source": [
    "### Декоратор с аргументами"
   ]
  },
  {
   "cell_type": "code",
   "execution_count": 8,
   "metadata": {
    "slideshow": {
     "slide_type": "fragment"
    }
   },
   "outputs": [
    {
     "name": "stdout",
     "output_type": "stream",
     "text": [
      "name: foo\n"
     ]
    },
    {
     "data": {
      "text/plain": [
       "'moo'"
      ]
     },
     "execution_count": 8,
     "metadata": {},
     "output_type": "execute_result"
    }
   ],
   "source": [
    "@check_with_param('name')\n",
    "def foo():\n",
    "    \"\"\"I am absulutely useless foo\"\"\"\n",
    "    return 'moo'\n",
    "\n",
    "foo()"
   ]
  },
  {
   "cell_type": "code",
   "execution_count": null,
   "metadata": {
    "slideshow": {
     "slide_type": "fragment"
    }
   },
   "outputs": [],
   "source": [
    "def foo():\n",
    "    \"\"\"I am absulutely useless foo\"\"\"\n",
    "    return 'moo'\n",
    "\n",
    "deco = check(param=name)\n",
    "foo = deco(foo)"
   ]
  },
  {
   "cell_type": "markdown",
   "metadata": {
    "slideshow": {
     "slide_type": "subslide"
    }
   },
   "source": [
    "### Реализация"
   ]
  },
  {
   "cell_type": "code",
   "execution_count": 2,
   "metadata": {
    "slideshow": {
     "slide_type": "fragment"
    }
   },
   "outputs": [],
   "source": [
    "def check_with_param(param='both'):\n",
    "    def decorator(func):\n",
    "        @functools.wraps(func)\n",
    "        def inner(*args, **kwargs):\n",
    "            if param == 'both':\n",
    "                print('name:',func.__name__, '\\ndoc: ', func.__doc__)\n",
    "            else:\n",
    "                print('name:', func.__name__) if param == 'name' else print('doc:', func.__doc__)\n",
    "            return func(*args, **kwargs)\n",
    "        return inner\n",
    "    return decorator"
   ]
  },
  {
   "cell_type": "markdown",
   "metadata": {
    "slideshow": {
     "slide_type": "subslide"
    }
   },
   "source": [
    "В общем виде декоратор с аргументами выглядит так:"
   ]
  },
  {
   "cell_type": "code",
   "execution_count": 9,
   "metadata": {
    "scrolled": true,
    "slideshow": {
     "slide_type": "fragment"
    }
   },
   "outputs": [
    {
     "name": "stdout",
     "output_type": "stream",
     "text": [
      "name: foo \n",
      "doc:  I am absulutely useless foo\n"
     ]
    },
    {
     "data": {
      "text/plain": [
       "'moo'"
      ]
     },
     "execution_count": 9,
     "metadata": {},
     "output_type": "execute_result"
    }
   ],
   "source": [
    "@check_with_param(param='both')\n",
    "def foo():\n",
    "    \"\"\"I am absulutely useless foo\"\"\"\n",
    "    return 'moo'\n",
    "\n",
    "foo()"
   ]
  },
  {
   "cell_type": "code",
   "execution_count": 12,
   "metadata": {
    "slideshow": {
     "slide_type": "subslide"
    }
   },
   "outputs": [
    {
     "ename": "TypeError",
     "evalue": "decorator() missing 1 required positional argument: 'func'",
     "output_type": "error",
     "traceback": [
      "\u001b[0;31m---------------------------------------------------------------------------\u001b[0m",
      "\u001b[0;31mTypeError\u001b[0m                                 Traceback (most recent call last)",
      "\u001b[0;32m<ipython-input-12-2ea0c1a35c17>\u001b[0m in \u001b[0;36m<module>\u001b[0;34m\u001b[0m\n\u001b[1;32m      4\u001b[0m     \u001b[0;32mreturn\u001b[0m \u001b[0;34m'moo'\u001b[0m\u001b[0;34m\u001b[0m\u001b[0;34m\u001b[0m\u001b[0m\n\u001b[1;32m      5\u001b[0m \u001b[0;34m\u001b[0m\u001b[0m\n\u001b[0;32m----> 6\u001b[0;31m \u001b[0mfoo\u001b[0m\u001b[0;34m(\u001b[0m\u001b[0;34m)\u001b[0m\u001b[0;34m\u001b[0m\u001b[0;34m\u001b[0m\u001b[0m\n\u001b[0m",
      "\u001b[0;31mTypeError\u001b[0m: decorator() missing 1 required positional argument: 'func'"
     ]
    }
   ],
   "source": [
    "@check_with_param\n",
    "def foo():\n",
    "    \"\"\"I am absulutely useless foo\"\"\"\n",
    "    return 'moo'\n",
    "\n",
    "foo()"
   ]
  },
  {
   "cell_type": "code",
   "execution_count": 14,
   "metadata": {
    "scrolled": true,
    "slideshow": {
     "slide_type": "fragment"
    }
   },
   "outputs": [
    {
     "name": "stdout",
     "output_type": "stream",
     "text": [
      "name: foo \n",
      "doc:  I am absulutely useless foo\n"
     ]
    },
    {
     "data": {
      "text/plain": [
       "'moo'"
      ]
     },
     "execution_count": 14,
     "metadata": {},
     "output_type": "execute_result"
    }
   ],
   "source": [
    "@check_with_param()\n",
    "def foo():\n",
    "    \"\"\"I am absulutely useless foo\"\"\"\n",
    "    return 'moo'\n",
    "\n",
    "foo()"
   ]
  },
  {
   "cell_type": "code",
   "execution_count": 15,
   "metadata": {
    "slideshow": {
     "slide_type": "subslide"
    }
   },
   "outputs": [
    {
     "ename": "TypeError",
     "evalue": "decorator() missing 1 required positional argument: 'func'",
     "output_type": "error",
     "traceback": [
      "\u001b[0;31m---------------------------------------------------------------------------\u001b[0m",
      "\u001b[0;31mTypeError\u001b[0m                                 Traceback (most recent call last)",
      "\u001b[0;32m<ipython-input-15-b6435e081987>\u001b[0m in \u001b[0;36m<module>\u001b[0;34m\u001b[0m\n\u001b[1;32m      4\u001b[0m \u001b[0;34m\u001b[0m\u001b[0m\n\u001b[1;32m      5\u001b[0m \u001b[0mfoo\u001b[0m \u001b[0;34m=\u001b[0m \u001b[0mcheck_with_param\u001b[0m\u001b[0;34m(\u001b[0m\u001b[0mfoo\u001b[0m\u001b[0;34m)\u001b[0m\u001b[0;34m\u001b[0m\u001b[0;34m\u001b[0m\u001b[0m\n\u001b[0;32m----> 6\u001b[0;31m \u001b[0mfoo\u001b[0m\u001b[0;34m(\u001b[0m\u001b[0;34m)\u001b[0m\u001b[0;34m\u001b[0m\u001b[0;34m\u001b[0m\u001b[0m\n\u001b[0m\u001b[1;32m      7\u001b[0m \u001b[0;34m\u001b[0m\u001b[0m\n",
      "\u001b[0;31mTypeError\u001b[0m: decorator() missing 1 required positional argument: 'func'"
     ]
    }
   ],
   "source": [
    "def foo():\n",
    "    \"\"\"I am absulutely useless foo\"\"\"\n",
    "    return 'moo'\n",
    "\n",
    "foo = check_with_param(foo)\n",
    "foo()\n",
    " "
   ]
  },
  {
   "cell_type": "code",
   "execution_count": 16,
   "metadata": {
    "slideshow": {
     "slide_type": "subslide"
    }
   },
   "outputs": [
    {
     "name": "stdout",
     "output_type": "stream",
     "text": [
      "name: foo \n",
      "doc:  I am absulutely useless foo\n"
     ]
    },
    {
     "data": {
      "text/plain": [
       "'moo'"
      ]
     },
     "execution_count": 16,
     "metadata": {},
     "output_type": "execute_result"
    }
   ],
   "source": [
    "def foo():\n",
    "    \"\"\"I am absulutely useless foo\"\"\"\n",
    "    return 'moo'\n",
    "\n",
    "foo = check_with_param()(foo)\n",
    "foo()\n",
    " "
   ]
  },
  {
   "cell_type": "markdown",
   "metadata": {
    "slideshow": {
     "slide_type": "slide"
    }
   },
   "source": [
    "### Синтаксис Python разрешает одновременное применение нескольких декораторов.\n",
    "Порядок имеет значение"
   ]
  },
  {
   "cell_type": "code",
   "execution_count": 23,
   "metadata": {
    "slideshow": {
     "slide_type": "fragment"
    }
   },
   "outputs": [
    {
     "data": {
      "text/plain": [
       "14"
      ]
     },
     "execution_count": 23,
     "metadata": {},
     "output_type": "execute_result"
    }
   ],
   "source": [
    "def square(func):\n",
    "    return lambda x: func(x * x)\n",
    "\n",
    "def addsome(func):\n",
    "    return lambda x: func(x + 10)\n",
    "\n",
    "@square\n",
    "@addsome\n",
    "def foo(x):\n",
    "    return x\n",
    "\n",
    "foo(2)"
   ]
  },
  {
   "cell_type": "code",
   "execution_count": 24,
   "metadata": {
    "slideshow": {
     "slide_type": "fragment"
    }
   },
   "outputs": [
    {
     "data": {
      "text/plain": [
       "144"
      ]
     },
     "execution_count": 24,
     "metadata": {},
     "output_type": "execute_result"
    }
   ],
   "source": [
    "@addsome\n",
    "@square\n",
    "def foo(x):\n",
    "    return x\n",
    "\n",
    "foo(2)"
   ]
  },
  {
   "cell_type": "markdown",
   "metadata": {
    "slideshow": {
     "slide_type": "subslide"
    }
   },
   "source": [
    "### Итого"
   ]
  },
  {
   "cell_type": "markdown",
   "metadata": {
    "slideshow": {
     "slide_type": "fragment"
    }
   },
   "source": [
    "* Декоратор - способ модифицировать поведение функции, сохраняя читаемость кода \n",
    "* Декораторы бывают:\n",
    "  * без аргументов `@check`\n",
    "  * с аргументами: \n",
    "    * с позиционными `@check_with_param('both')`\n",
    "    * с опциональными `@check_with_param(param='both')`\n"
   ]
  },
  {
   "cell_type": "markdown",
   "metadata": {
    "slideshow": {
     "slide_type": "slide"
    }
   },
   "source": [
    "### functools"
   ]
  },
  {
   "cell_type": "markdown",
   "metadata": {
    "slideshow": {
     "slide_type": "subslide"
    }
   },
   "source": [
    "### functools: lru_cach"
   ]
  },
  {
   "cell_type": "markdown",
   "metadata": {
    "slideshow": {
     "slide_type": "fragment"
    }
   },
   "source": [
    "Сохраняет фиксированное колличество поледних вызовов."
   ]
  },
  {
   "cell_type": "code",
   "execution_count": 22,
   "metadata": {
    "slideshow": {
     "slide_type": "fragment"
    }
   },
   "outputs": [
    {
     "data": {
      "text/plain": [
       "927372692193078999176"
      ]
     },
     "execution_count": 22,
     "metadata": {},
     "output_type": "execute_result"
    }
   ],
   "source": [
    "@functools.lru_cache(maxsize=64)\n",
    "def fib(n):\n",
    "    return fib(n-1) + fib(n-2) if n > 0 else 1\n",
    "\n",
    "fib(100)"
   ]
  },
  {
   "cell_type": "code",
   "execution_count": 23,
   "metadata": {
    "slideshow": {
     "slide_type": "fragment"
    }
   },
   "outputs": [
    {
     "data": {
      "text/plain": [
       "CacheInfo(hits=99, misses=102, maxsize=64, currsize=64)"
      ]
     },
     "execution_count": 23,
     "metadata": {},
     "output_type": "execute_result"
    }
   ],
   "source": [
    "fib.cache_info()"
   ]
  },
  {
   "cell_type": "markdown",
   "metadata": {
    "slideshow": {
     "slide_type": "slide"
    }
   },
   "source": [
    "### Partial"
   ]
  },
  {
   "cell_type": "markdown",
   "metadata": {
    "slideshow": {
     "slide_type": "fragment"
    }
   },
   "source": [
    "Позволяет зафиксировать часть позиционных и ключевых аргументов в функции "
   ]
  },
  {
   "cell_type": "code",
   "execution_count": 50,
   "metadata": {
    "slideshow": {
     "slide_type": "fragment"
    }
   },
   "outputs": [
    {
     "data": {
      "text/plain": [
       "[('b', 2), ('a', 4)]"
      ]
     },
     "execution_count": 50,
     "metadata": {},
     "output_type": "execute_result"
    }
   ],
   "source": [
    "f = functools.partial(sorted, key=lambda p: p[1])\n",
    "\n",
    "f([(\"a\", 4), (\"b\", 2)])"
   ]
  },
  {
   "cell_type": "code",
   "execution_count": 51,
   "metadata": {
    "slideshow": {
     "slide_type": "fragment"
    }
   },
   "outputs": [
    {
     "data": {
      "text/plain": [
       "[1, 2, 3, 4]"
      ]
     },
     "execution_count": 51,
     "metadata": {},
     "output_type": "execute_result"
    }
   ],
   "source": [
    "g = functools.partial(sorted, [2, 3, 1, 4])\n",
    "g()"
   ]
  }
 ],
 "metadata": {
  "celltoolbar": "Slideshow",
  "kernelspec": {
   "display_name": "Python 3",
   "language": "python",
   "name": "python3"
  },
  "language_info": {
   "codemirror_mode": {
    "name": "ipython",
    "version": 3
   },
   "file_extension": ".py",
   "mimetype": "text/x-python",
   "name": "python",
   "nbconvert_exporter": "python",
   "pygments_lexer": "ipython3",
   "version": "3.7.3"
  }
 },
 "nbformat": 4,
 "nbformat_minor": 2
}
